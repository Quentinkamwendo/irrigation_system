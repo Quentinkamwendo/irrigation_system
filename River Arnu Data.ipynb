{
 "cells": [
  {
   "cell_type": "code",
   "execution_count": 7,
   "id": "cffd26da",
   "metadata": {},
   "outputs": [],
   "source": [
    "import pandas as pd\n",
    "import matplotlib.pyplot as plt\n",
    "import numpy as np\n",
    "%matplotlib inline"
   ]
  },
  {
   "cell_type": "code",
   "execution_count": 171,
   "id": "93214e0b",
   "metadata": {},
   "outputs": [],
   "source": [
    "df = pd.read_csv(\"River_Arno.csv\").dropna()"
   ]
  },
  {
   "cell_type": "code",
   "execution_count": 172,
   "id": "a5937ad5",
   "metadata": {},
   "outputs": [],
   "source": [
    "df.drop(df.columns[[0,1,2,3,4,5,6,7,8,9,10,11,12,13]], axis = 1, inplace = True)"
   ]
  },
  {
   "cell_type": "code",
   "execution_count": 173,
   "id": "a0f5c0b7",
   "metadata": {},
   "outputs": [
    {
     "data": {
      "text/html": [
       "<div>\n",
       "<style scoped>\n",
       "    .dataframe tbody tr th:only-of-type {\n",
       "        vertical-align: middle;\n",
       "    }\n",
       "\n",
       "    .dataframe tbody tr th {\n",
       "        vertical-align: top;\n",
       "    }\n",
       "\n",
       "    .dataframe thead th {\n",
       "        text-align: right;\n",
       "    }\n",
       "</style>\n",
       "<table border=\"1\" class=\"dataframe\">\n",
       "  <thead>\n",
       "    <tr style=\"text-align: right;\">\n",
       "      <th></th>\n",
       "      <th>Rainfall_Camaldoli</th>\n",
       "      <th>Temperature_Firenze</th>\n",
       "      <th>Hydrometry_Nave_di_Rosano</th>\n",
       "    </tr>\n",
       "  </thead>\n",
       "  <tbody>\n",
       "    <tr>\n",
       "      <th>2191</th>\n",
       "      <td>0.0</td>\n",
       "      <td>8.65</td>\n",
       "      <td>1.84</td>\n",
       "    </tr>\n",
       "    <tr>\n",
       "      <th>2192</th>\n",
       "      <td>0.0</td>\n",
       "      <td>7.10</td>\n",
       "      <td>1.93</td>\n",
       "    </tr>\n",
       "    <tr>\n",
       "      <th>2193</th>\n",
       "      <td>0.0</td>\n",
       "      <td>5.50</td>\n",
       "      <td>1.61</td>\n",
       "    </tr>\n",
       "    <tr>\n",
       "      <th>2194</th>\n",
       "      <td>0.0</td>\n",
       "      <td>3.55</td>\n",
       "      <td>1.35</td>\n",
       "    </tr>\n",
       "    <tr>\n",
       "      <th>2195</th>\n",
       "      <td>0.0</td>\n",
       "      <td>2.70</td>\n",
       "      <td>1.44</td>\n",
       "    </tr>\n",
       "    <tr>\n",
       "      <th>...</th>\n",
       "      <td>...</td>\n",
       "      <td>...</td>\n",
       "      <td>...</td>\n",
       "    </tr>\n",
       "    <tr>\n",
       "      <th>3469</th>\n",
       "      <td>0.0</td>\n",
       "      <td>23.80</td>\n",
       "      <td>0.99</td>\n",
       "    </tr>\n",
       "    <tr>\n",
       "      <th>3470</th>\n",
       "      <td>0.0</td>\n",
       "      <td>23.15</td>\n",
       "      <td>1.01</td>\n",
       "    </tr>\n",
       "    <tr>\n",
       "      <th>3471</th>\n",
       "      <td>0.0</td>\n",
       "      <td>21.60</td>\n",
       "      <td>1.03</td>\n",
       "    </tr>\n",
       "    <tr>\n",
       "      <th>3472</th>\n",
       "      <td>0.0</td>\n",
       "      <td>21.90</td>\n",
       "      <td>1.02</td>\n",
       "    </tr>\n",
       "    <tr>\n",
       "      <th>3473</th>\n",
       "      <td>5.0</td>\n",
       "      <td>22.20</td>\n",
       "      <td>1.04</td>\n",
       "    </tr>\n",
       "  </tbody>\n",
       "</table>\n",
       "<p>1276 rows × 3 columns</p>\n",
       "</div>"
      ],
      "text/plain": [
       "      Rainfall_Camaldoli  Temperature_Firenze  Hydrometry_Nave_di_Rosano\n",
       "2191                 0.0                 8.65                       1.84\n",
       "2192                 0.0                 7.10                       1.93\n",
       "2193                 0.0                 5.50                       1.61\n",
       "2194                 0.0                 3.55                       1.35\n",
       "2195                 0.0                 2.70                       1.44\n",
       "...                  ...                  ...                        ...\n",
       "3469                 0.0                23.80                       0.99\n",
       "3470                 0.0                23.15                       1.01\n",
       "3471                 0.0                21.60                       1.03\n",
       "3472                 0.0                21.90                       1.02\n",
       "3473                 5.0                22.20                       1.04\n",
       "\n",
       "[1276 rows x 3 columns]"
      ]
     },
     "execution_count": 173,
     "metadata": {},
     "output_type": "execute_result"
    }
   ],
   "source": [
    "df"
   ]
  },
  {
   "cell_type": "code",
   "execution_count": 180,
   "id": "3be63d90",
   "metadata": {},
   "outputs": [
    {
     "data": {
      "text/plain": [
       "count    1276.000000\n",
       "mean        3.842947\n",
       "std         9.614272\n",
       "min         0.000000\n",
       "25%         0.000000\n",
       "50%         0.000000\n",
       "75%         2.400000\n",
       "max       103.600000\n",
       "Name: Rainfall_Camaldoli, dtype: float64"
      ]
     },
     "execution_count": 180,
     "metadata": {},
     "output_type": "execute_result"
    }
   ],
   "source": [
    "df.Rainfall_Camaldoli.describe()"
   ]
  },
  {
   "cell_type": "code",
   "execution_count": 185,
   "id": "bc7f6ee6",
   "metadata": {},
   "outputs": [
    {
     "data": {
      "text/html": [
       "<div>\n",
       "<style scoped>\n",
       "    .dataframe tbody tr th:only-of-type {\n",
       "        vertical-align: middle;\n",
       "    }\n",
       "\n",
       "    .dataframe tbody tr th {\n",
       "        vertical-align: top;\n",
       "    }\n",
       "\n",
       "    .dataframe thead th {\n",
       "        text-align: right;\n",
       "    }\n",
       "</style>\n",
       "<table border=\"1\" class=\"dataframe\">\n",
       "  <thead>\n",
       "    <tr style=\"text-align: right;\">\n",
       "      <th></th>\n",
       "      <th>Rainfall_Camaldoli</th>\n",
       "      <th>Temperature_Firenze</th>\n",
       "      <th>Hydrometry_Nave_di_Rosano</th>\n",
       "    </tr>\n",
       "  </thead>\n",
       "  <tbody>\n",
       "    <tr>\n",
       "      <th>2191</th>\n",
       "      <td>0.0</td>\n",
       "      <td>8.65</td>\n",
       "      <td>1.84</td>\n",
       "    </tr>\n",
       "    <tr>\n",
       "      <th>2192</th>\n",
       "      <td>0.0</td>\n",
       "      <td>7.10</td>\n",
       "      <td>1.93</td>\n",
       "    </tr>\n",
       "    <tr>\n",
       "      <th>2193</th>\n",
       "      <td>0.0</td>\n",
       "      <td>5.50</td>\n",
       "      <td>1.61</td>\n",
       "    </tr>\n",
       "    <tr>\n",
       "      <th>2194</th>\n",
       "      <td>0.0</td>\n",
       "      <td>3.55</td>\n",
       "      <td>1.35</td>\n",
       "    </tr>\n",
       "    <tr>\n",
       "      <th>2195</th>\n",
       "      <td>0.0</td>\n",
       "      <td>2.70</td>\n",
       "      <td>1.44</td>\n",
       "    </tr>\n",
       "    <tr>\n",
       "      <th>...</th>\n",
       "      <td>...</td>\n",
       "      <td>...</td>\n",
       "      <td>...</td>\n",
       "    </tr>\n",
       "    <tr>\n",
       "      <th>3469</th>\n",
       "      <td>0.0</td>\n",
       "      <td>23.80</td>\n",
       "      <td>0.99</td>\n",
       "    </tr>\n",
       "    <tr>\n",
       "      <th>3470</th>\n",
       "      <td>0.0</td>\n",
       "      <td>23.15</td>\n",
       "      <td>1.01</td>\n",
       "    </tr>\n",
       "    <tr>\n",
       "      <th>3471</th>\n",
       "      <td>0.0</td>\n",
       "      <td>21.60</td>\n",
       "      <td>1.03</td>\n",
       "    </tr>\n",
       "    <tr>\n",
       "      <th>3472</th>\n",
       "      <td>0.0</td>\n",
       "      <td>21.90</td>\n",
       "      <td>1.02</td>\n",
       "    </tr>\n",
       "    <tr>\n",
       "      <th>3473</th>\n",
       "      <td>5.0</td>\n",
       "      <td>22.20</td>\n",
       "      <td>1.04</td>\n",
       "    </tr>\n",
       "  </tbody>\n",
       "</table>\n",
       "<p>1237 rows × 3 columns</p>\n",
       "</div>"
      ],
      "text/plain": [
       "      Rainfall_Camaldoli  Temperature_Firenze  Hydrometry_Nave_di_Rosano\n",
       "2191                 0.0                 8.65                       1.84\n",
       "2192                 0.0                 7.10                       1.93\n",
       "2193                 0.0                 5.50                       1.61\n",
       "2194                 0.0                 3.55                       1.35\n",
       "2195                 0.0                 2.70                       1.44\n",
       "...                  ...                  ...                        ...\n",
       "3469                 0.0                23.80                       0.99\n",
       "3470                 0.0                23.15                       1.01\n",
       "3471                 0.0                21.60                       1.03\n",
       "3472                 0.0                21.90                       1.02\n",
       "3473                 5.0                22.20                       1.04\n",
       "\n",
       "[1237 rows x 3 columns]"
      ]
     },
     "execution_count": 185,
     "metadata": {},
     "output_type": "execute_result"
    }
   ],
   "source": [
    "df1 = df[~(df.Rainfall_Camaldoli>30)]\n",
    "df1"
   ]
  },
  {
   "cell_type": "code",
   "execution_count": 210,
   "id": "15085995",
   "metadata": {},
   "outputs": [
    {
     "name": "stderr",
     "output_type": "stream",
     "text": [
      "C:\\Users\\USER\\AppData\\Local\\Temp\\ipykernel_7376\\2750615286.py:1: UserWarning: Boolean Series key will be reindexed to match DataFrame index.\n",
      "  df2 = df1[~(df.Temperature_Firenze<10)]\n"
     ]
    },
    {
     "data": {
      "text/html": [
       "<div>\n",
       "<style scoped>\n",
       "    .dataframe tbody tr th:only-of-type {\n",
       "        vertical-align: middle;\n",
       "    }\n",
       "\n",
       "    .dataframe tbody tr th {\n",
       "        vertical-align: top;\n",
       "    }\n",
       "\n",
       "    .dataframe thead th {\n",
       "        text-align: right;\n",
       "    }\n",
       "</style>\n",
       "<table border=\"1\" class=\"dataframe\">\n",
       "  <thead>\n",
       "    <tr style=\"text-align: right;\">\n",
       "      <th></th>\n",
       "      <th>Rainfall_Camaldoli</th>\n",
       "      <th>Temperature_Firenze</th>\n",
       "      <th>Hydrometry_Nave_di_Rosano</th>\n",
       "    </tr>\n",
       "  </thead>\n",
       "  <tbody>\n",
       "    <tr>\n",
       "      <th>2203</th>\n",
       "      <td>4.2</td>\n",
       "      <td>14.70</td>\n",
       "      <td>1.41</td>\n",
       "    </tr>\n",
       "    <tr>\n",
       "      <th>2204</th>\n",
       "      <td>10.0</td>\n",
       "      <td>15.05</td>\n",
       "      <td>1.46</td>\n",
       "    </tr>\n",
       "    <tr>\n",
       "      <th>2207</th>\n",
       "      <td>4.8</td>\n",
       "      <td>10.70</td>\n",
       "      <td>1.75</td>\n",
       "    </tr>\n",
       "    <tr>\n",
       "      <th>2224</th>\n",
       "      <td>19.4</td>\n",
       "      <td>10.75</td>\n",
       "      <td>1.98</td>\n",
       "    </tr>\n",
       "    <tr>\n",
       "      <th>2225</th>\n",
       "      <td>3.0</td>\n",
       "      <td>10.00</td>\n",
       "      <td>2.14</td>\n",
       "    </tr>\n",
       "    <tr>\n",
       "      <th>...</th>\n",
       "      <td>...</td>\n",
       "      <td>...</td>\n",
       "      <td>...</td>\n",
       "    </tr>\n",
       "    <tr>\n",
       "      <th>3469</th>\n",
       "      <td>0.0</td>\n",
       "      <td>23.80</td>\n",
       "      <td>0.99</td>\n",
       "    </tr>\n",
       "    <tr>\n",
       "      <th>3470</th>\n",
       "      <td>0.0</td>\n",
       "      <td>23.15</td>\n",
       "      <td>1.01</td>\n",
       "    </tr>\n",
       "    <tr>\n",
       "      <th>3471</th>\n",
       "      <td>0.0</td>\n",
       "      <td>21.60</td>\n",
       "      <td>1.03</td>\n",
       "    </tr>\n",
       "    <tr>\n",
       "      <th>3472</th>\n",
       "      <td>0.0</td>\n",
       "      <td>21.90</td>\n",
       "      <td>1.02</td>\n",
       "    </tr>\n",
       "    <tr>\n",
       "      <th>3473</th>\n",
       "      <td>5.0</td>\n",
       "      <td>22.20</td>\n",
       "      <td>1.04</td>\n",
       "    </tr>\n",
       "  </tbody>\n",
       "</table>\n",
       "<p>935 rows × 3 columns</p>\n",
       "</div>"
      ],
      "text/plain": [
       "      Rainfall_Camaldoli  Temperature_Firenze  Hydrometry_Nave_di_Rosano\n",
       "2203                 4.2                14.70                       1.41\n",
       "2204                10.0                15.05                       1.46\n",
       "2207                 4.8                10.70                       1.75\n",
       "2224                19.4                10.75                       1.98\n",
       "2225                 3.0                10.00                       2.14\n",
       "...                  ...                  ...                        ...\n",
       "3469                 0.0                23.80                       0.99\n",
       "3470                 0.0                23.15                       1.01\n",
       "3471                 0.0                21.60                       1.03\n",
       "3472                 0.0                21.90                       1.02\n",
       "3473                 5.0                22.20                       1.04\n",
       "\n",
       "[935 rows x 3 columns]"
      ]
     },
     "execution_count": 210,
     "metadata": {},
     "output_type": "execute_result"
    }
   ],
   "source": [
    "df2 = df1[~(df.Temperature_Firenze<10)]\n",
    "df2"
   ]
  },
  {
   "cell_type": "code",
   "execution_count": 153,
   "id": "f658a2af",
   "metadata": {},
   "outputs": [
    {
     "data": {
      "text/plain": [
       "Rainfall_Le_Croci            0\n",
       "Rainfall_Cavallina           0\n",
       "Rainfall_S_Agata             0\n",
       "Rainfall_Mangona             0\n",
       "Rainfall_S_Piero             0\n",
       "Rainfall_Vernio              0\n",
       "Rainfall_Stia                0\n",
       "Rainfall_Consuma             0\n",
       "Rainfall_Incisa              0\n",
       "Rainfall_Montevarchi         0\n",
       "Rainfall_S_Savino            0\n",
       "Rainfall_Laterina            0\n",
       "Rainfall_Bibbiena            0\n",
       "Rainfall_Camaldoli           0\n",
       "Temperature_Firenze          0\n",
       "Hydrometry_Nave_di_Rosano    0\n",
       "dtype: int64"
      ]
     },
     "execution_count": 153,
     "metadata": {},
     "output_type": "execute_result"
    }
   ],
   "source": [
    "df.isnull().sum()"
   ]
  },
  {
   "cell_type": "code",
   "execution_count": 200,
   "id": "bbe77942",
   "metadata": {},
   "outputs": [
    {
     "data": {
      "text/html": [
       "<div>\n",
       "<style scoped>\n",
       "    .dataframe tbody tr th:only-of-type {\n",
       "        vertical-align: middle;\n",
       "    }\n",
       "\n",
       "    .dataframe tbody tr th {\n",
       "        vertical-align: top;\n",
       "    }\n",
       "\n",
       "    .dataframe thead th {\n",
       "        text-align: right;\n",
       "    }\n",
       "</style>\n",
       "<table border=\"1\" class=\"dataframe\">\n",
       "  <thead>\n",
       "    <tr style=\"text-align: right;\">\n",
       "      <th></th>\n",
       "      <th>Rainfall_Camaldoli</th>\n",
       "      <th>Temperature_Firenze</th>\n",
       "      <th>Hydrometry_Nave_di_Rosano</th>\n",
       "    </tr>\n",
       "  </thead>\n",
       "  <tbody>\n",
       "    <tr>\n",
       "      <th>count</th>\n",
       "      <td>1237.000000</td>\n",
       "      <td>1237.000000</td>\n",
       "      <td>1237.000000</td>\n",
       "    </tr>\n",
       "    <tr>\n",
       "      <th>mean</th>\n",
       "      <td>2.544058</td>\n",
       "      <td>16.054204</td>\n",
       "      <td>1.463622</td>\n",
       "    </tr>\n",
       "    <tr>\n",
       "      <th>std</th>\n",
       "      <td>5.466939</td>\n",
       "      <td>7.323835</td>\n",
       "      <td>0.502126</td>\n",
       "    </tr>\n",
       "    <tr>\n",
       "      <th>min</th>\n",
       "      <td>0.000000</td>\n",
       "      <td>-2.700000</td>\n",
       "      <td>0.980000</td>\n",
       "    </tr>\n",
       "    <tr>\n",
       "      <th>25%</th>\n",
       "      <td>0.000000</td>\n",
       "      <td>10.150000</td>\n",
       "      <td>1.090000</td>\n",
       "    </tr>\n",
       "    <tr>\n",
       "      <th>50%</th>\n",
       "      <td>0.000000</td>\n",
       "      <td>16.200000</td>\n",
       "      <td>1.330000</td>\n",
       "    </tr>\n",
       "    <tr>\n",
       "      <th>75%</th>\n",
       "      <td>2.000000</td>\n",
       "      <td>21.950000</td>\n",
       "      <td>1.640000</td>\n",
       "    </tr>\n",
       "    <tr>\n",
       "      <th>max</th>\n",
       "      <td>29.600000</td>\n",
       "      <td>30.950000</td>\n",
       "      <td>4.310000</td>\n",
       "    </tr>\n",
       "  </tbody>\n",
       "</table>\n",
       "</div>"
      ],
      "text/plain": [
       "       Rainfall_Camaldoli  Temperature_Firenze  Hydrometry_Nave_di_Rosano\n",
       "count         1237.000000          1237.000000                1237.000000\n",
       "mean             2.544058            16.054204                   1.463622\n",
       "std              5.466939             7.323835                   0.502126\n",
       "min              0.000000            -2.700000                   0.980000\n",
       "25%              0.000000            10.150000                   1.090000\n",
       "50%              0.000000            16.200000                   1.330000\n",
       "75%              2.000000            21.950000                   1.640000\n",
       "max             29.600000            30.950000                   4.310000"
      ]
     },
     "execution_count": 200,
     "metadata": {},
     "output_type": "execute_result"
    }
   ],
   "source": [
    "df1.describe()"
   ]
  },
  {
   "cell_type": "code",
   "execution_count": 48,
   "id": "b5ef1b29",
   "metadata": {},
   "outputs": [
    {
     "data": {
      "image/png": "[encoded data removed]",
      "text/plain": [
       "<Figure size 432x288 with 1 Axes>"
      ]
     },
     "metadata": {
      "needs_background": "light"
     },
     "output_type": "display_data"
    }
   ],
   "source": [
    "plt.hist(df[\"Temperature_Firenze\"], color=\"blue\", label=\"Temperature\", alpha=0.7, density=True)\n",
    "plt.hist(df[\"Hydrometry_Nave_di_Rosano\"], color=\"red\", label=\"Hydrometry\", alpha=0.7, density=True)\n",
    "plt.title(\"Irigation\")\n",
    "plt.legend()\n",
    "plt.show()"
   ]
  },
  {
   "cell_type": "code",
   "execution_count": 226,
   "id": "885524ab",
   "metadata": {},
   "outputs": [
    {
     "data": {
      "text/plain": [
       "<matplotlib.legend.Legend at 0x1858ef4ee20>"
      ]
     },
     "execution_count": 226,
     "metadata": {},
     "output_type": "execute_result"
    },
    {
     "data": {
      "image/png": "[encoded data removed]",
      "text/plain": [
       "<Figure size 432x288 with 1 Axes>"
      ]
     },
     "metadata": {
      "needs_background": "light"
     },
     "output_type": "display_data"
    }
   ],
   "source": [
    "plt.scatter(df1[\"Temperature_Firenze\"], df1[\"Hydrometry_Nave_di_Rosano\"], color=\"blue\", label=\"Temperature and rainfall\")\n",
    "plt.xlabel(\"Temperature\")\n",
    "plt.ylabel(\"Hydrometry\")\n",
    "plt.title(\"Temperature vs Hydrometry\")\n",
    "plt.legend()"
   ]
  },
  {
   "cell_type": "code",
   "execution_count": 93,
   "id": "26093700",
   "metadata": {},
   "outputs": [
    {
     "data": {
      "text/plain": [
       "array([  0. ,   5.6,   0.2,   1.6,   4.2,  10. ,   6. ,   4.4,   4.8,\n",
       "        28. ,  25.4,   0.8,   3. ,   0.4,   1. ,   0.6,  15.8,  19.4,\n",
       "         1.4,   1.8,   4. ,  53. ,  27.2,   6.6,   3.4,  14. ,  17.2,\n",
       "         7. ,   9.6,   2. ,  15.4,   9.2,   5.4,  12.4,   6.4,   2.2,\n",
       "         9.8,   2.4,  15.6,   8. ,  22.8,  11.4,  39.4,  34. ,   9.4,\n",
       "        34.4,  29.6,  21.6,  19.2,   8.2,  16.8,   7.8,   3.2,  15.2,\n",
       "        13. ,   9. ,   2.8,   8.8,  34.8,   3.6,  18.8,   3.8,   8.4,\n",
       "        31.2,  15. ,  24. ,  47.2,  27.6,   6.2,  31.8,  24.6,  60.2,\n",
       "        12.2,  23.8,  42.4,  13.8,  13.6,   2.6,   1.2,  39.2,   8.6,\n",
       "        12.8,  47.8,  25.2,   5.2,  10.2,  43.6,  26. ,  20.6,  10.8,\n",
       "         5. ,   5.8,   7.2,   7.4,  11. ,  10.4,  24.2,  46.4,  43.2,\n",
       "        21.2,  12. ,  16.4,  31. ,  17. ,  31.6,  26.4,  14.4,  25.8,\n",
       "        23.2,  32. ,  98.6,  38.2,  16. ,  42.2,  36.6,  97.2,  74.4,\n",
       "        13.2,  29.4,  11.6,   4.6,  41.8,  38.4,   7.6,  19.6,  13.4,\n",
       "        22.2,  35.2, 103.6,  32.4,  30.8,  41.4,  17.4,  18. ,  11.2,\n",
       "        30.2,  14.8,  19. ,  22.4,  17.8,  18.6,  37.8,  16.2,  44.6,\n",
       "        33.2])"
      ]
     },
     "execution_count": 93,
     "metadata": {},
     "output_type": "execute_result"
    }
   ],
   "source": [
    "df[\"Rainfall_Camaldoli\"].unique()"
   ]
  },
  {
   "cell_type": "code",
   "execution_count": 9,
   "id": "e10f8460",
   "metadata": {},
   "outputs": [
    {
     "data": {
      "text/plain": [
       "2.538893219017922"
      ]
     },
     "execution_count": 9,
     "metadata": {},
     "output_type": "execute_result"
    }
   ],
   "source": [
    "df[\"Rainfall_Stia\"].mean()"
   ]
  },
  {
   "cell_type": "code",
   "execution_count": 51,
   "id": "d71a6c38",
   "metadata": {},
   "outputs": [
    {
     "data": {
      "text/html": [
       "<div>\n",
       "<style scoped>\n",
       "    .dataframe tbody tr th:only-of-type {\n",
       "        vertical-align: middle;\n",
       "    }\n",
       "\n",
       "    .dataframe tbody tr th {\n",
       "        vertical-align: top;\n",
       "    }\n",
       "\n",
       "    .dataframe thead th {\n",
       "        text-align: right;\n",
       "    }\n",
       "</style>\n",
       "<table border=\"1\" class=\"dataframe\">\n",
       "  <thead>\n",
       "    <tr style=\"text-align: right;\">\n",
       "      <th></th>\n",
       "      <th>Rainfall_Camaldoli</th>\n",
       "      <th>Temperature_Firenze</th>\n",
       "      <th>Hydrometry_Nave_di_Rosano</th>\n",
       "    </tr>\n",
       "  </thead>\n",
       "  <tbody>\n",
       "    <tr>\n",
       "      <th>count</th>\n",
       "      <td>1276.000000</td>\n",
       "      <td>1276.000000</td>\n",
       "      <td>1276.000000</td>\n",
       "    </tr>\n",
       "    <tr>\n",
       "      <th>mean</th>\n",
       "      <td>3.842947</td>\n",
       "      <td>16.047688</td>\n",
       "      <td>1.490282</td>\n",
       "    </tr>\n",
       "    <tr>\n",
       "      <th>std</th>\n",
       "      <td>9.614272</td>\n",
       "      <td>7.255555</td>\n",
       "      <td>0.557755</td>\n",
       "    </tr>\n",
       "    <tr>\n",
       "      <th>min</th>\n",
       "      <td>0.000000</td>\n",
       "      <td>-2.700000</td>\n",
       "      <td>0.980000</td>\n",
       "    </tr>\n",
       "    <tr>\n",
       "      <th>25%</th>\n",
       "      <td>0.000000</td>\n",
       "      <td>10.250000</td>\n",
       "      <td>1.090000</td>\n",
       "    </tr>\n",
       "    <tr>\n",
       "      <th>50%</th>\n",
       "      <td>0.000000</td>\n",
       "      <td>16.200000</td>\n",
       "      <td>1.335000</td>\n",
       "    </tr>\n",
       "    <tr>\n",
       "      <th>75%</th>\n",
       "      <td>2.400000</td>\n",
       "      <td>21.900000</td>\n",
       "      <td>1.660000</td>\n",
       "    </tr>\n",
       "    <tr>\n",
       "      <th>max</th>\n",
       "      <td>103.600000</td>\n",
       "      <td>30.950000</td>\n",
       "      <td>5.660000</td>\n",
       "    </tr>\n",
       "  </tbody>\n",
       "</table>\n",
       "</div>"
      ],
      "text/plain": [
       "       Rainfall_Camaldoli  Temperature_Firenze  Hydrometry_Nave_di_Rosano\n",
       "count         1276.000000          1276.000000                1276.000000\n",
       "mean             3.842947            16.047688                   1.490282\n",
       "std              9.614272             7.255555                   0.557755\n",
       "min              0.000000            -2.700000                   0.980000\n",
       "25%              0.000000            10.250000                   1.090000\n",
       "50%              0.000000            16.200000                   1.335000\n",
       "75%              2.400000            21.900000                   1.660000\n",
       "max            103.600000            30.950000                   5.660000"
      ]
     },
     "execution_count": 51,
     "metadata": {},
     "output_type": "execute_result"
    }
   ],
   "source": [
    "df.describe()"
   ]
  },
  {
   "cell_type": "code",
   "execution_count": 212,
   "id": "68941605",
   "metadata": {},
   "outputs": [
    {
     "data": {
      "text/html": [
       "<div>\n",
       "<style scoped>\n",
       "    .dataframe tbody tr th:only-of-type {\n",
       "        vertical-align: middle;\n",
       "    }\n",
       "\n",
       "    .dataframe tbody tr th {\n",
       "        vertical-align: top;\n",
       "    }\n",
       "\n",
       "    .dataframe thead th {\n",
       "        text-align: right;\n",
       "    }\n",
       "</style>\n",
       "<table border=\"1\" class=\"dataframe\">\n",
       "  <thead>\n",
       "    <tr style=\"text-align: right;\">\n",
       "      <th></th>\n",
       "      <th>Rainfall_Camaldoli</th>\n",
       "      <th>Temperature_Firenze</th>\n",
       "    </tr>\n",
       "  </thead>\n",
       "  <tbody>\n",
       "    <tr>\n",
       "      <th>2191</th>\n",
       "      <td>0.0</td>\n",
       "      <td>8.65</td>\n",
       "    </tr>\n",
       "    <tr>\n",
       "      <th>2192</th>\n",
       "      <td>0.0</td>\n",
       "      <td>7.10</td>\n",
       "    </tr>\n",
       "    <tr>\n",
       "      <th>2193</th>\n",
       "      <td>0.0</td>\n",
       "      <td>5.50</td>\n",
       "    </tr>\n",
       "    <tr>\n",
       "      <th>2194</th>\n",
       "      <td>0.0</td>\n",
       "      <td>3.55</td>\n",
       "    </tr>\n",
       "    <tr>\n",
       "      <th>2195</th>\n",
       "      <td>0.0</td>\n",
       "      <td>2.70</td>\n",
       "    </tr>\n",
       "  </tbody>\n",
       "</table>\n",
       "</div>"
      ],
      "text/plain": [
       "      Rainfall_Camaldoli  Temperature_Firenze\n",
       "2191                 0.0                 8.65\n",
       "2192                 0.0                 7.10\n",
       "2193                 0.0                 5.50\n",
       "2194                 0.0                 3.55\n",
       "2195                 0.0                 2.70"
      ]
     },
     "execution_count": 212,
     "metadata": {},
     "output_type": "execute_result"
    }
   ],
   "source": [
    "X = df1.drop('Hydrometry_Nave_di_Rosano', axis = 'columns')\n",
    "X.head()"
   ]
  },
  {
   "cell_type": "code",
   "execution_count": 213,
   "id": "f0c36006",
   "metadata": {},
   "outputs": [
    {
     "data": {
      "text/plain": [
       "2191    1.84\n",
       "2192    1.93\n",
       "2193    1.61\n",
       "2194    1.35\n",
       "2195    1.44\n",
       "Name: Hydrometry_Nave_di_Rosano, dtype: float64"
      ]
     },
     "execution_count": 213,
     "metadata": {},
     "output_type": "execute_result"
    }
   ],
   "source": [
    "y = df1.Hydrometry_Nave_di_Rosano\n",
    "y.head()"
   ]
  },
  {
   "cell_type": "code",
   "execution_count": 214,
   "id": "26e3436a",
   "metadata": {},
   "outputs": [],
   "source": [
    "from sklearn.model_selection import train_test_split\n",
    "X_train, X_test, y_train, y_test = train_test_split(X,y,test_size=0.2,random_state=42)"
   ]
  },
  {
   "cell_type": "code",
   "execution_count": 97,
   "id": "25a2c8c4",
   "metadata": {},
   "outputs": [],
   "source": [
    "from imblearn.over_sampling import RandomOverSampler\n",
    "ros = RandomOverSampler()\n",
    "# X, y = ros.fit_resample(X, y)"
   ]
  },
  {
   "cell_type": "code",
   "execution_count": 227,
   "id": "7e7717e9",
   "metadata": {},
   "outputs": [
    {
     "data": {
      "text/plain": [
       "0.3742329436860745"
      ]
     },
     "execution_count": 227,
     "metadata": {},
     "output_type": "execute_result"
    }
   ],
   "source": [
    "from sklearn.linear_model import LinearRegression\n",
    "from sklearn.preprocessing import StandardScaler, PolynomialFeatures\n",
    "# from sklearn.ensemble import RandomForestClassifier\n",
    "from sklearn.metrics import accuracy_score\n",
    "from sklearn.feature_selection import SelectKBest, f_regression\n",
    "\n",
    "selector = SelectKBest(score_func=f_regression, k='all')\n",
    "X_train_selected = selector.fit_transform(X_train, y_train)\n",
    "X_test_selected = selector.transform(X_test)\n",
    "\n",
    "scaler = StandardScaler()\n",
    "X_train_scaled = scaler.fit_transform(X_train_selected)\n",
    "X_test_scaled = scaler.transform(X_test_selected)\n",
    "\n",
    "poly = PolynomialFeatures(degree=2)\n",
    "X_train_poly = poly.fit_transform(X_train_scaled)\n",
    "X_test_poly = poly.transform(X_test_scaled)\n",
    "\n",
    "\n",
    "lr_model = LinearRegression()\n",
    "# lr_model.fit(X_train_scaled, y_train)\n",
    "lr_model.fit(X_train_scaled, y_train)\n",
    "# y_pred = lr_model.predict(X_test_scaled)\n",
    "lr_model.score(X_test_scaled, y_test)\n",
    "# y_pred = rfm.predict(X_test)"
   ]
  },
  {
   "cell_type": "code",
   "execution_count": 230,
   "id": "59e6a7c9",
   "metadata": {},
   "outputs": [],
   "source": [
    "import pickle\n",
    "with open('River arnu model.pickle', 'wb') as f:\n",
    "    pickle.dump(lr_model, f)"
   ]
  },
  {
   "cell_type": "code",
   "execution_count": 232,
   "id": "ca5b5b07",
   "metadata": {},
   "outputs": [],
   "source": [
    "import json\n",
    "columns = {\n",
    "    'data_columns':[col.lower() for col in X.columns]\n",
    "}\n",
    "with open('columns.json', 'w') as f:\n",
    "    f.write(json.dumps((columns)))"
   ]
  }
 ],
 "metadata": {
  "kernelspec": {
   "display_name": "Python 3 (ipykernel)",
   "language": "python",
   "name": "python3"
  },
  "language_info": {
   "codemirror_mode": {
    "name": "ipython",
    "version": 3
   },
   "file_extension": ".py",
   "mimetype": "text/x-python",
   "name": "python",
   "nbconvert_exporter": "python",
   "pygments_lexer": "ipython3",
   "version": "3.9.12"
  },
  "nbTranslate": {
   "displayLangs": [
    "*"
   ],
   "hotkey": "alt-t",
   "langInMainMenu": true,
   "sourceLang": "en",
   "targetLang": "fr",
   "useGoogleTranslate": true
  },
  "varInspector": {
   "cols": {
    "lenName": 16,
    "lenType": 16,
    "lenVar": 40
   },
   "kernels_config": {
    "python": {
     "delete_cmd_postfix": "",
     "delete_cmd_prefix": "del ",
     "library": "var_list.py",
     "varRefreshCmd": "print(var_dic_list())"
    },
    "r": {
     "delete_cmd_postfix": ") ",
     "delete_cmd_prefix": "rm(",
     "library": "var_list.r",
     "varRefreshCmd": "cat(var_dic_list()) "
    }
   },
   "types_to_exclude": [
    "module",
    "function",
    "builtin_function_or_method",
    "instance",
    "_Feature"
   ],
   "window_display": false
  }
 },
 "nbformat": 4,
 "nbformat_minor": 5
}
